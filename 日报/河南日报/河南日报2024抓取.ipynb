{
 "cells": [
  {
   "cell_type": "code",
   "execution_count": 4,
   "metadata": {
    "collapsed": true
   },
   "outputs": [],
   "source": [
    "import csv\n",
    "import requests\n",
    "from lxml import etree\n",
    "from bs4 import BeautifulSoup\n",
    "import time\n",
    "import warnings\n",
    "from urllib3.exceptions import InsecureRequestWarning\n",
    "warnings.filterwarnings(\"ignore\", category=InsecureRequestWarning)"
   ]
  },
  {
   "cell_type": "code",
   "execution_count": 5,
   "outputs": [],
   "source": [
    "headers = {\n",
    "    \"Accept\": \"text/html,application/xhtml+xml,application/xml;q=0.9,image/avif,image/webp,image/apng,*/*;q=0.8,application/signed-exchange;v=b3;q=0.7\",\n",
    "    \"Accept-Language\": \"zh-CN,zh;q=0.9\",\n",
    "    \"Cache-Control\": \"no-cache\",\n",
    "    \"Connection\": \"keep-alive\",\n",
    "    \"Pragma\": \"no-cache\",\n",
    "    \"User-Agent\": \"Mozilla/5.0 (Windows NT 10.0; Win64; x64) AppleWebKit/537.36 (KHTML, like Gecko) Chrome/121.0.0.0 Safari/537.36\",\n",
    "}"
   ],
   "metadata": {
    "collapsed": false
   }
  },
  {
   "cell_type": "code",
   "execution_count": 3,
   "outputs": [],
   "source": [
    "def main():\n",
    "    with open('河南日报2024.csv', 'w', encoding='utf-8-sig', newline='') as file:\n",
    "        writer = csv.writer(file)\n",
    "        writer.writerow(['日期', '文章链接', '标题'])  # 移除正文列\n",
    "\n",
    "        month_days = {\n",
    "            1: 31, 2: 29, 3: 31, 4: 30,\n",
    "            5: 31, 6: 30, 7: 31, 8: 31,\n",
    "            9: 30, 10: 31, 11: 30, 12: 31\n",
    "        }\n",
    "\n",
    "        for month in range(1, 13):\n",
    "            for day in range(1, month_days[month] + 1):\n",
    "                time.sleep(1)\n",
    "                date_str = f\"2024-{month:02d}-{day:02d}\"\n",
    "                list_url = f\"https://newpaper.dahe.cn/hnrb/html/2024-{month:02d}/{day:02d}/node_1.htm\"\n",
    "                print(date_str)\n",
    "                try:\n",
    "                    # 使用BS4获取列表页\n",
    "                    list_response = requests.get(list_url, headers=headers, verify=False, timeout=10)\n",
    "                    list_soup = BeautifulSoup(list_response.text, 'lxml')\n",
    "\n",
    "                    # 混合使用XPath定位元素\n",
    "                    news_list = list_soup.select_one('ul.news-list')  # BS4选择器\n",
    "                    if news_list:\n",
    "                        # 将BS4对象转换为lxml元素以使用XPath\n",
    "                        lxml_element = etree.HTML(str(news_list))\n",
    "                        items = lxml_element.xpath(\"//li[@class='news-item']\")\n",
    "\n",
    "                        for item in items:\n",
    "                            title = item.xpath(\".//a/text()\")[0].strip()\n",
    "                            relative_url = item.xpath(\".//a/@href\")[0]\n",
    "                            full_url = f\"https://newpaper.dahe.cn/hnrb/html/2024-{month:02d}/{day}/{relative_url}\"\n",
    "                            print(title)\n",
    "                            writer.writerow([\n",
    "                                date_str,\n",
    "                                full_url,\n",
    "                                title\n",
    "                            ])\n",
    "\n",
    "                except Exception as e:\n",
    "                    print(f\"Error processing {date_str}: {str(e)}\")\n",
    "                    continue"
   ],
   "metadata": {
    "collapsed": false
   }
  },
  {
   "cell_type": "code",
   "execution_count": null,
   "outputs": [],
   "source": [
    "if __name__ == '__main__':\n",
    "    main()"
   ],
   "metadata": {
    "collapsed": false
   }
  }
 ],
 "metadata": {
  "kernelspec": {
   "display_name": "Python 3",
   "language": "python",
   "name": "python3"
  },
  "language_info": {
   "codemirror_mode": {
    "name": "ipython",
    "version": 2
   },
   "file_extension": ".py",
   "mimetype": "text/x-python",
   "name": "python",
   "nbconvert_exporter": "python",
   "pygments_lexer": "ipython2",
   "version": "2.7.6"
  }
 },
 "nbformat": 4,
 "nbformat_minor": 0
}

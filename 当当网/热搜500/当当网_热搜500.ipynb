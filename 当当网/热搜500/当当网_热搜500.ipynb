{
 "cells": [
  {
   "cell_type": "code",
   "execution_count": 6,
   "metadata": {
    "collapsed": true
   },
   "outputs": [],
   "source": [
    "import requests\n",
    "from requests.exceptions import RequestException\n",
    "import re\n",
    "from lxml import etree\n",
    "import time"
   ]
  },
  {
   "cell_type": "code",
   "execution_count": 5,
   "outputs": [],
   "source": [
    "headers = {\n",
    "    \"Accept\": \"text/html,application/xhtml+xml,application/xml;q=0.9,image/avif,image/webp,image/apng,*/*;q=0.8,application/signed-exchange;v=b3;q=0.7\",\n",
    "    \"Accept-Language\": \"zh-CN,zh;q=0.9\",\n",
    "    \"Cache-Control\": \"no-cache\",\n",
    "    \"Pragma\": \"no-cache\",\n",
    "    \"Proxy-Connection\": \"keep-alive\",\n",
    "    \"Referer\": \"http://bang.dangdang.com/books/bestsellers/01.00.00.00.00.00-recent7-0-0-1-25\",\n",
    "    \"Upgrade-Insecure-Requests\": \"1\",\n",
    "    \"User-Agent\": \"Mozilla/5.0 (Macintosh; Intel Mac OS X 10_15_7) AppleWebKit/537.36 (KHTML, like Gecko) Chrome/134.0.0.0 Safari/537.36\"\n",
    "}\n",
    "cookies = {\n",
    "    \"$ddscreen\": \"2\",\n",
    "    \"__permanent_id\": \"20250306121147946191741833204390036\",\n",
    "    \"MDD_channelId\": \"70000\",\n",
    "    \"MDD_fromPlatform\": \"307\",\n",
    "    \"dest_area\": \"country_id%3D9000%26province_id%3D111%26city_id%20%3D0%26district_id%3D0%26town_id%3D0\",\n",
    "    \"ddscreen\": \"2\",\n",
    "    \"__visit_id\": \"20250327101817755421283596549527611\",\n",
    "    \"__out_refer\": \"1743041898%7C\\\\u0021%7Cwww.bing.com%7C\\\\u0021%7C\",\n",
    "    \"__rpm\": \"...1743042020389%7C...1743042074964\",\n",
    "    \"__trace_id\": \"20250327102115043957191977722624003\"\n",
    "}"
   ],
   "metadata": {
    "collapsed": false
   }
  },
  {
   "cell_type": "code",
   "execution_count": 7,
   "outputs": [],
   "source": [
    "def get_one_page(url):\n",
    "    \"\"\"\n",
    "    获取某一页的源代码；\n",
    "    url: 当前网页的url;\n",
    "    return: 当前网页的html文本\n",
    "    \"\"\"\n",
    "    try:\n",
    "        response = requests.get(url, headers=headers, cookies=cookies, verify=False)\n",
    "        if response.status_code == 200:\n",
    "            return response.text\n",
    "        return None\n",
    "    except RequestException as e:\n",
    "        print(f\"请求错误：{e}\")\n",
    "        return None\n",
    "\n",
    "def parse_one_page(html):\n",
    "    \"\"\"\n",
    "    从当前网页中提取“排行榜号（list_num）”，“书名”，“评论数量”，“推荐度”，\n",
    "    “作者”、“出版社信息”、“原始价格”、“折后价格”，并存入字典中。\n",
    "    \"\"\"\n",
    "    tree = etree.HTML(html)\n",
    "    index_patten='<div class=\"list_num .*\">(.*)</div>'\n",
    "    index_list=re.findall(index_patten,html)\n",
    "    # index_list = tree.xpath('//div[@class=\"list_num\"]/text()')\n",
    "    name_list = tree.xpath('//ul/li/div[@class=\"name\"]/a/text()')\n",
    "    num_list = tree.xpath('//div[@class=\"star\"]/a/text()')\n",
    "    tuijian_list = tree.xpath('//span[@class=\"tuijian\"]/text()')\n",
    "    author_list = tree.xpath('//div[@class=\"publisher_info\"][1]/a[1]/text()')\n",
    "    publish_list = tree.xpath('//div[@class=\"publisher_info\"][2]/a/text()')\n",
    "    zheqian_list = tree.xpath('//div[@class=\"price\"]/p[1]/span[@class=\"price_r\"]/text()')\n",
    "    zhehou_list = tree.xpath('//div[@class=\"price\"]/p[1]/span[@class=\"price_n\"]/text()')\n",
    "\n",
    "    max_length = max(len(index_list), len(name_list), len(num_list), len(tuijian_list), len(author_list), len(publish_list), len(zheqian_list), len(zhehou_list))\n",
    "\n",
    "    for i in range(max_length):\n",
    "        yield {\n",
    "            'index': index_list[i].strip() if i < len(index_list) else '',\n",
    "            'title': name_list[i].strip() if i < len(name_list) else '',\n",
    "            'reviews': num_list[i].strip() if i < len(num_list) else '',\n",
    "            'recommends': tuijian_list[i].strip() if i < len(tuijian_list) else '',\n",
    "            'authors': author_list[i].strip() if i < len(author_list) else '',\n",
    "            'publisher': publish_list[i].strip() if i < len(publish_list) else '',\n",
    "            'price_n': zhehou_list[i].strip() if i < len(zhehou_list) else '',\n",
    "            'price_r': zheqian_list[i].strip() if i < len(zheqian_list) else ''\n",
    "        }\n",
    "\n",
    "def write_to_csv(data):\n",
    "    with open(r'dangdang_books.csv', 'a', encoding='utf-8') as file:\n",
    "        line = ''\n",
    "        for value in data.values():\n",
    "            line += f'\"{value}\",'\n",
    "        file.write(line.strip(',') + '\\n')\n",
    "\n",
    "def main():\n",
    "    file = open(r'dangdang_books.csv', 'w', encoding='utf-8')\n",
    "    file.write('index,title,reviews,recommends,authors,publisher,price_n,price_r\\n')\n",
    "    file.close()\n",
    "\n",
    "    for i in range(1, 26):  # 修改为26以抓取全部25页\n",
    "        print(f\"正在抓取第{i}页--------------->\")\n",
    "        url = f'http://bang.dangdang.com/books/bestsellers/01.00.00.00.00.00-recent7-0-0-1-{i}'\n",
    "        html = get_one_page(url)\n",
    "        if html:\n",
    "            time.sleep(1)\n",
    "            for item in parse_one_page(html):\n",
    "                write_to_csv(item)"
   ],
   "metadata": {
    "collapsed": false
   }
  },
  {
   "cell_type": "code",
   "execution_count": 8,
   "outputs": [
    {
     "name": "stdout",
     "output_type": "stream",
     "text": [
      "正在抓取第1页--------------->\n",
      "正在抓取第2页--------------->\n",
      "正在抓取第3页--------------->\n",
      "正在抓取第4页--------------->\n",
      "正在抓取第5页--------------->\n",
      "正在抓取第6页--------------->\n",
      "正在抓取第7页--------------->\n",
      "正在抓取第8页--------------->\n",
      "正在抓取第9页--------------->\n",
      "正在抓取第10页--------------->\n",
      "正在抓取第11页--------------->\n",
      "正在抓取第12页--------------->\n",
      "正在抓取第13页--------------->\n",
      "正在抓取第14页--------------->\n",
      "正在抓取第15页--------------->\n",
      "正在抓取第16页--------------->\n",
      "正在抓取第17页--------------->\n",
      "正在抓取第18页--------------->\n",
      "正在抓取第19页--------------->\n",
      "正在抓取第20页--------------->\n",
      "正在抓取第21页--------------->\n",
      "正在抓取第22页--------------->\n",
      "正在抓取第23页--------------->\n",
      "正在抓取第24页--------------->\n",
      "正在抓取第25页--------------->\n"
     ]
    }
   ],
   "source": [
    "if __name__ == '__main__':\n",
    "    main()\n"
   ],
   "metadata": {
    "collapsed": false
   }
  },
  {
   "cell_type": "code",
   "execution_count": null,
   "outputs": [],
   "source": [],
   "metadata": {
    "collapsed": false
   }
  }
 ],
 "metadata": {
  "kernelspec": {
   "display_name": "Python 3",
   "language": "python",
   "name": "python3"
  },
  "language_info": {
   "codemirror_mode": {
    "name": "ipython",
    "version": 2
   },
   "file_extension": ".py",
   "mimetype": "text/x-python",
   "name": "python",
   "nbconvert_exporter": "python",
   "pygments_lexer": "ipython2",
   "version": "2.7.6"
  }
 },
 "nbformat": 4,
 "nbformat_minor": 0
}
